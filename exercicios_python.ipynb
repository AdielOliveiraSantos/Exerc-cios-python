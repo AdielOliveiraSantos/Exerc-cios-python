{
  "cells": [
    {
      "cell_type": "markdown",
      "metadata": {
        "id": "VcL-FWq4AjLZ"
      },
      "source": [
        "# Exercícios"
      ]
    },
    {
      "cell_type": "markdown",
      "metadata": {
        "id": "MV6PVoIPAjLh"
      },
      "source": [
        "1. Escreva um algoritmo que imprima na tela: Olá Mundo!"
      ]
    },
    {
      "cell_type": "markdown",
      "source": [
        ""
      ],
      "metadata": {
        "id": "b4ZD-eXEAsw3"
      }
    },
    {
      "cell_type": "code",
      "execution_count": null,
      "metadata": {
        "colab": {
          "base_uri": "https://localhost:8080/"
        },
        "id": "lZGR6qTjAjLi",
        "outputId": "33901733-2ee8-45c5-8568-35ecb0f32f39"
      },
      "outputs": [
        {
          "output_type": "stream",
          "name": "stdout",
          "text": [
            "Hello world\n"
          ]
        }
      ],
      "source": [
        "print(\"Hello world\")"
      ]
    },
    {
      "cell_type": "markdown",
      "metadata": {
        "id": "yOS1ieg1AjLj"
      },
      "source": [
        "2. Escreva um programa que imprima seu nome na tela."
      ]
    },
    {
      "cell_type": "code",
      "execution_count": null,
      "metadata": {
        "colab": {
          "base_uri": "https://localhost:8080/"
        },
        "id": "4zQzn3CYAjLj",
        "outputId": "3b73544b-18ec-4b65-bcbf-e3f5d6ed0a3a"
      },
      "outputs": [
        {
          "output_type": "stream",
          "name": "stdout",
          "text": [
            "Adiel\n"
          ]
        }
      ],
      "source": [
        "print(\"Adiel\")"
      ]
    },
    {
      "cell_type": "code",
      "source": [
        ""
      ],
      "metadata": {
        "id": "hdrhk5aOAtoG"
      },
      "execution_count": null,
      "outputs": []
    },
    {
      "cell_type": "markdown",
      "metadata": {
        "id": "iE-uKO9FAjLj"
      },
      "source": [
        "3. O que o código a seguir imprime?\n",
        "\n",
        "```python\n",
        "print(\"*\\n**\\n***\\n****\\n*****\")\n",
        "```"
      ]
    },
    {
      "cell_type": "code",
      "execution_count": null,
      "metadata": {
        "colab": {
          "base_uri": "https://localhost:8080/",
          "height": 130
        },
        "id": "TZfuuNTsAjLk",
        "outputId": "1f395a3e-a09d-49da-d31e-b9079b90fe6e"
      },
      "outputs": [
        {
          "output_type": "error",
          "ename": "SyntaxError",
          "evalue": "ignored",
          "traceback": [
            "\u001b[0;36m  File \u001b[0;32m\"<ipython-input-4-a089d412f594>\"\u001b[0;36m, line \u001b[0;32m1\u001b[0m\n\u001b[0;31m    *\u001b[0m\n\u001b[0m     ^\u001b[0m\n\u001b[0;31mSyntaxError\u001b[0m\u001b[0;31m:\u001b[0m invalid syntax\n"
          ]
        }
      ],
      "source": [
        "*\n",
        "**\n",
        "***\n",
        "****\n",
        "*****"
      ]
    },
    {
      "cell_type": "markdown",
      "metadata": {
        "id": "QJkuAohXAjLl"
      },
      "source": [
        "4. O que aparece na janela do console, quando cada uma das instruções abaixo são executadas, para: x = 2 e y = 3? Execute cada uma das linhas abaixos e, se necessário, faça os devidos ajustes no código.\n",
        "    1. *print(“x = ” + x);*\n",
        "    2. *print(“O valor de x + x é ” + (x + x));*\n",
        "    3. *print(“x = ”);*\n",
        "    4. *print((x + y) + “ = “ + (y + x));*\n"
      ]
    },
    {
      "cell_type": "code",
      "execution_count": null,
      "metadata": {
        "colab": {
          "base_uri": "https://localhost:8080/"
        },
        "id": "Q3_qUUSnAjLm",
        "outputId": "b875ffc3-5528-4305-f4c8-ad746dee8971"
      },
      "outputs": [
        {
          "output_type": "stream",
          "name": "stdout",
          "text": [
            "x = 2\n",
            "O valor de x + x é  4\n",
            "x = 2\n",
            "5  =  5\n"
          ]
        }
      ],
      "source": [
        "x = 2\n",
        "y = 3\n",
        "print(\"x =\" ,x)\n",
        "print('O valor de x + x é ' , (x + x));\n",
        "print(\"x =\" ,x);\n",
        "print((x + y),' = ',(y + x));\n"
      ]
    },
    {
      "cell_type": "markdown",
      "metadata": {
        "id": "dEjjawTjAjLm"
      },
      "source": [
        "5. Escreva um algoritmo que imprima na tela a seguinte mensagem:\n",
        "\n",
        "> A programação é aprendida escrevendo programas - \n",
        "> Brian Kernighan\n"
      ]
    },
    {
      "cell_type": "code",
      "execution_count": null,
      "metadata": {
        "colab": {
          "base_uri": "https://localhost:8080/"
        },
        "id": "GXrMbcrjAjLn",
        "outputId": "901e029c-16d4-48be-9bd2-1784c2131d37"
      },
      "outputs": [
        {
          "output_type": "stream",
          "name": "stdout",
          "text": [
            "A programação é aprendida escrevendo programas - Brian Kernighan\n"
          ]
        }
      ],
      "source": [
        "print(\"A programação é aprendida escrevendo programas - Brian Kernighan\")"
      ]
    },
    {
      "cell_type": "markdown",
      "metadata": {
        "id": "Ja4wtr6QAjLn"
      },
      "source": [
        "6. Crie um algoritmo que imprima o produto entre os números 25 e 27"
      ]
    },
    {
      "cell_type": "code",
      "execution_count": null,
      "metadata": {
        "colab": {
          "base_uri": "https://localhost:8080/"
        },
        "id": "SCGtASWbAjLo",
        "outputId": "91333a0c-d8b9-499d-f7af-65b71fb6300e"
      },
      "outputs": [
        {
          "output_type": "stream",
          "name": "stdout",
          "text": [
            "675\n"
          ]
        }
      ],
      "source": [
        "x = 25 * 27\n",
        "print(x)"
      ]
    },
    {
      "cell_type": "markdown",
      "metadata": {
        "id": "3M1zHhWFAjLo"
      },
      "source": [
        "7. Crie um algoritmo que imprima a média aritmética entre os números 4, 12, 15."
      ]
    },
    {
      "cell_type": "code",
      "execution_count": null,
      "metadata": {
        "colab": {
          "base_uri": "https://localhost:8080/"
        },
        "id": "3Zvr21WfAjLp",
        "outputId": "bb821502-0a5c-40ae-fb1e-2b154e0d8cdc"
      },
      "outputs": [
        {
          "output_type": "stream",
          "name": "stdout",
          "text": [
            "10.333333333333334\n"
          ]
        }
      ],
      "source": [
        "x =( 4 + 12 + 15) / 3\n",
        "print(x)"
      ]
    },
    {
      "cell_type": "markdown",
      "metadata": {
        "id": "PB8O6xGQAjLp"
      },
      "source": [
        "8. Faça um programa que leia um número inteiro e mostre-o na tela da seguinte forma: \n",
        "\n",
        "> O número inteiro digitado foi 4."
      ]
    },
    {
      "cell_type": "code",
      "execution_count": null,
      "metadata": {
        "colab": {
          "base_uri": "https://localhost:8080/"
        },
        "id": "KZH1wwrKAjLq",
        "outputId": "f742d745-8dc7-4ac6-a097-65844b9d5ec3"
      },
      "outputs": [
        {
          "output_type": "stream",
          "name": "stdout",
          "text": [
            "5\n",
            "O número inteiro digitado foi 5.\n"
          ]
        }
      ],
      "source": [
        "x = int(input(\"Digite um número: \"))\n",
        "print(f'O número inteiro digitado foi {x}.')"
      ]
    },
    {
      "cell_type": "markdown",
      "metadata": {
        "id": "xcV6v33HAjLq"
      },
      "source": [
        "9. Faça um programa que leia e imprima dois números inteiros na tela."
      ]
    },
    {
      "cell_type": "code",
      "execution_count": null,
      "metadata": {
        "id": "nUFGMD6rAjLq",
        "colab": {
          "base_uri": "https://localhost:8080/"
        },
        "outputId": "fc57a79c-59ee-4248-920e-b883351723ba"
      },
      "outputs": [
        {
          "output_type": "stream",
          "name": "stdout",
          "text": [
            "Digite o primeiro número1\n",
            "Digite o primeiro número2\n",
            "O primeiro número inteiro digitado foi 1.\n",
            "O segundo número inteiro digitado foi 2.\n"
          ]
        }
      ],
      "source": [
        "x = int(input(\"Digite o primeiro número: \"))\n",
        "y = int(input(\"Digite o primeiro número: \"))\n",
        "print(f'O primeiro número inteiro digitado foi {x}.')\n",
        "print(f'O segundo número inteiro digitado foi {y}.')"
      ]
    },
    {
      "cell_type": "markdown",
      "metadata": {
        "id": "djzHp4qjAjLr"
      },
      "source": [
        "10. Faça um programa que leia um número inteiro e imprima seu número sucessor e antecessor."
      ]
    },
    {
      "cell_type": "code",
      "execution_count": null,
      "metadata": {
        "id": "k8EMgodOAjLr",
        "colab": {
          "base_uri": "https://localhost:8080/"
        },
        "outputId": "296717d8-5ac1-4603-8b97-7d80a4b6891c"
      },
      "outputs": [
        {
          "output_type": "stream",
          "name": "stdout",
          "text": [
            "Digite um número10\n",
            "O número inteiro digitado foi 10.\n",
            "E seu sucessor é 11 assim como seu antecessor é 9.\n"
          ]
        }
      ],
      "source": [
        "x = int(input(\"Digite um número: \"))\n",
        "y = x + 1\n",
        "z = x - 1 \n",
        "print(f'O número inteiro digitado foi {x}.')\n",
        "print(f'E seu sucessor é {y} assim como seu antecessor é {z}.')"
      ]
    },
    {
      "cell_type": "markdown",
      "metadata": {
        "id": "6915VVsUAjLs"
      },
      "source": [
        "11. Faça um programa que leia o nome, endereço e telefone de um usuário e imprima na tela."
      ]
    },
    {
      "cell_type": "code",
      "execution_count": null,
      "metadata": {
        "id": "MlJ2Jy74AjLs",
        "colab": {
          "base_uri": "https://localhost:8080/"
        },
        "outputId": "19fce212-0e3f-499d-d3ab-f6b598b9dd21"
      },
      "outputs": [
        {
          "output_type": "stream",
          "name": "stdout",
          "text": [
            "Digite seu nome: Adiel\n",
            "Digite seu endereço: virginopolis, 92\n",
            "Digite seu número: 31995487259\n",
            "O nome digitado foi Adiel.\n",
            "O endereço digitado foi virginopolis, 92.\n",
            "O telefone digitado foi 31995487259.\n"
          ]
        }
      ],
      "source": [
        "nome = (input(\"Digite seu nome: \"))\n",
        "endereço = (input(\"Digite seu endereço: \"))\n",
        "telefone = int(input(\"Digite seu número: \"))\n",
        "print(f'Seu nome é {nome}.')\n",
        "print(f'Seu endereço é {endereço}.')\n",
        "print(f'Seu telefone é {telefone}.')\n",
        "\n"
      ]
    },
    {
      "cell_type": "markdown",
      "metadata": {
        "id": "tmjMVkwsAjLt"
      },
      "source": [
        "12. Faça um programa que leia e multiplique dois números inteiros."
      ]
    },
    {
      "cell_type": "code",
      "execution_count": null,
      "metadata": {
        "id": "-rB8YCn1AjLt",
        "colab": {
          "base_uri": "https://localhost:8080/"
        },
        "outputId": "a3a31b00-a3f1-4c9f-a2cc-b8d0417b9ee6"
      },
      "outputs": [
        {
          "output_type": "stream",
          "name": "stdout",
          "text": [
            "Digite O primeiro número: 3\n",
            "Digite o segundo número: 3\n",
            "Primeiro número é: 3.\n",
            "Segundo número é: 3.\n",
            "O resultado de sua Multuplicação é: 9.\n"
          ]
        }
      ],
      "source": [
        "x = int(input(\"Digite O primeiro número: \"))\n",
        "y = int(input(\"Digite o segundo número: \"))\n",
        "z = x * y\n",
        "print(f'Primeiro número é: {x}.')\n",
        "print(f'Segundo número é: {y}.')\n",
        "print(f'O resultado de sua Multuplicação é: {z}.')"
      ]
    },
    {
      "cell_type": "markdown",
      "metadata": {
        "id": "YIO72_azAjLt"
      },
      "source": [
        "13. Faça um programa que leia um número real e imprima a terça parte deste número."
      ]
    },
    {
      "cell_type": "code",
      "execution_count": null,
      "metadata": {
        "id": "QtMjCm2PAjLt",
        "colab": {
          "base_uri": "https://localhost:8080/"
        },
        "outputId": "db0102ee-7d0b-4d6b-8599-64c1d22669cf"
      },
      "outputs": [
        {
          "output_type": "stream",
          "name": "stdout",
          "text": [
            "Digite um número: 9\n",
            "Sua terça parte é: 3.0.\n"
          ]
        }
      ],
      "source": [
        "x = float(input('Digite um número: '))\n",
        "y = x / 3\n",
        "print(f'Sua terça parte é: {y}.')\n"
      ]
    },
    {
      "cell_type": "markdown",
      "metadata": {
        "id": "Zfrn3UGOAjLu"
      },
      "source": [
        "14. Faça um programa que leia dois números inteiros e imprima o dividendo, divisor, quociente e resto da divisão"
      ]
    },
    {
      "cell_type": "code",
      "execution_count": null,
      "metadata": {
        "id": "4SCDTOs9AjLu",
        "colab": {
          "base_uri": "https://localhost:8080/"
        },
        "outputId": "93273b0e-18e2-4d6d-b9ca-511606330ef7"
      },
      "outputs": [
        {
          "output_type": "stream",
          "name": "stdout",
          "text": [
            "Digite o primeiro numero: 9\n",
            "Digite o segundo numero: 3\n",
            "O dividendo é:  9\n",
            "O divisor é:  3\n",
            "O quociente é:  3.0\n",
            "E o resto é:  0\n"
          ]
        }
      ],
      "source": [
        "x = int(input(\"Digite o primeiro numero: \"))\n",
        "y = int(input(\"Digite o segundo numero: \"))\n",
        "\n",
        "dividendo = x\n",
        "divisor = y\n",
        "quociente = dividendo/divisor\n",
        "resto = dividendo%divisor\n",
        "\n",
        "print(\"O dividendo é: \", dividendo)\n",
        "print(\"O divisor é: \", divisor)\n",
        "print(\"O quociente é: \", quociente)\n",
        "print(\"E o resto é: \", resto)\n",
        "\n"
      ]
    },
    {
      "cell_type": "markdown",
      "metadata": {
        "id": "yDTfief2AjLu"
      },
      "source": [
        "15. Escreva um programa que solicite do usuário dois números, e imprima o resultado da soma, subtração, multiplicação e divisão."
      ]
    },
    {
      "cell_type": "code",
      "execution_count": null,
      "metadata": {
        "id": "JXDrdWO2AjLu",
        "colab": {
          "base_uri": "https://localhost:8080/"
        },
        "outputId": "fc5a28d2-ce2f-454f-dc09-b1f50c9a922f"
      },
      "outputs": [
        {
          "output_type": "stream",
          "name": "stdout",
          "text": [
            "Digite o primeiro numero: 5\n",
            "Digite o segundo numero: 5\n",
            "A soma é:  10\n",
            "A subtração é:  0\n",
            "A multiplicação é:  25\n",
            "A divisão é:  1.0\n"
          ]
        }
      ],
      "source": [
        "x = int(input(\"Digite o primeiro numero: \"))\n",
        "y = int(input(\"Digite o segundo numero: \"))\n",
        "\n",
        "print(\"A soma é: \", x + y)\n",
        "print(\"A subtração é: \", x - y)\n",
        "print(\"A multiplicação é: \", x * y)\n",
        "print(\"A divisão é: \", x / y)\n"
      ]
    },
    {
      "cell_type": "markdown",
      "metadata": {
        "id": "I7UV3bEBAjLv"
      },
      "source": [
        "16. Faça um programa que leia quatro números inteiros, calcule e mostre a soma desses números."
      ]
    },
    {
      "cell_type": "code",
      "execution_count": null,
      "metadata": {
        "id": "MAK4wVtMAjLv",
        "colab": {
          "base_uri": "https://localhost:8080/"
        },
        "outputId": "ead8831c-947c-49cd-e6c9-43b0dd3fea02"
      },
      "outputs": [
        {
          "output_type": "stream",
          "name": "stdout",
          "text": [
            "Digite o primeiro numero: 5\n",
            "Digite o segundo numero: 10\n",
            "Digite o terceiro numero: 5\n",
            "Digite o quarto numero: 10\n",
            "A soma é:  30\n"
          ]
        }
      ],
      "source": [
        "w = int(input(\"Digite o primeiro numero: \"))\n",
        "x = int(input(\"Digite o segundo numero: \"))\n",
        "y = int(input(\"Digite o terceiro numero: \"))\n",
        "z = int(input(\"Digite o quarto numero: \"))\n",
        "\n",
        "soma = x + y + w + z\n",
        "\n",
        "print(\"A soma é: \", soma)\n"
      ]
    },
    {
      "cell_type": "markdown",
      "metadata": {
        "id": "vJ0nvkMEAjLv"
      },
      "source": [
        "17. Faça um programa que receba três notas, calcule e mostre a média aritmética."
      ]
    },
    {
      "cell_type": "code",
      "execution_count": null,
      "metadata": {
        "id": "i256dEIGAjLv",
        "colab": {
          "base_uri": "https://localhost:8080/"
        },
        "outputId": "e1c7eb92-c6c0-42dc-f1af-c14004ba8bbe"
      },
      "outputs": [
        {
          "output_type": "stream",
          "name": "stdout",
          "text": [
            "Digite a primeira nota: 100\n",
            "Digite a segunda nota: 100\n",
            "Digite a terceira nota: 100\n",
            "A media é:  100.0\n"
          ]
        }
      ],
      "source": [
        "x = float(input(\"Digite a primeira nota: \"))\n",
        "y = float(input(\"Digite a segunda nota: \"))\n",
        "z = float(input(\"Digite a terceira nota: \"))\n",
        "\n",
        "media = (x + y + z) / 3\n",
        "\n",
        "print(\"A media é: \", media)\n",
        "\n"
      ]
    },
    {
      "cell_type": "markdown",
      "metadata": {
        "id": "YLbDYA3rAjLv"
      },
      "source": [
        "18. Faça um programa que receba três notas e seus respectivos pesos, calcule e mostre a média ponderada."
      ]
    },
    {
      "cell_type": "code",
      "execution_count": null,
      "metadata": {
        "id": "1-yi0ryqAjLw",
        "colab": {
          "base_uri": "https://localhost:8080/"
        },
        "outputId": "66e4bd7c-74bf-4b60-b7cf-e96012d29ea6"
      },
      "outputs": [
        {
          "output_type": "stream",
          "name": "stdout",
          "text": [
            "Digite a primeira nota: 70\n",
            "Digite a segunda nota: 800\n",
            "Digite a terceira nota: 20\n",
            "Digite o peso da primeira nota: 1\n",
            "Digite o peso da primeira nota: 2\n",
            "Digite o peso da primeira nota: 3\n",
            "A media ponderada é: 288.3333333333333\n"
          ]
        }
      ],
      "source": [
        "n1 = float(input(\"Digite a primeira nota: \"))\n",
        "n2 = float(input(\"Digite a segunda nota: \"))\n",
        "n3 = float(input(\"Digite a terceira nota: \"))\n",
        "p1 = int(input(\"Digite o peso da primeira nota: \"))\n",
        "p2 = int(input(\"Digite o peso da primeira nota: \"))\n",
        "p3 = int(input(\"Digite o peso da primeira nota: \"))\n",
        "\n",
        "media = (n1 * p1 + n2 * p2 + n3 * p3) / (p1 + p2 + p3);\n",
        " \n",
        "print(\"A media ponderada é:\", media)\n",
        "\n",
        "\n"
      ]
    },
    {
      "cell_type": "markdown",
      "metadata": {
        "id": "dgHb9G-WAjLw"
      },
      "source": [
        "19. Faça um programa que receba o salário de um funcionário, calcule e mostre o novo salário, sabendo-se que este sofreu um aumento de 25%."
      ]
    },
    {
      "cell_type": "code",
      "execution_count": null,
      "metadata": {
        "id": "vS-xgn5pAjLw",
        "colab": {
          "base_uri": "https://localhost:8080/"
        },
        "outputId": "39025607-d708-4f3b-dac6-030a246e1320"
      },
      "outputs": [
        {
          "output_type": "stream",
          "name": "stdout",
          "text": [
            "Digite o salário: 1000\n",
            "O novo salário é: 1250.0\n"
          ]
        }
      ],
      "source": [
        "x = float(input(\"Digite o salário: \"))\n",
        "nv = x + (x / 4)\n",
        "\n",
        "print(\"O novo salário é:\" , nv)"
      ]
    },
    {
      "cell_type": "markdown",
      "metadata": {
        "id": "GACTlC_PAjLw"
      },
      "source": [
        "20. Faça um programa que receba o salário de um funcionário e o percentual de aumento, calcule e mostre o valor do aumento e o novo salário. "
      ]
    },
    {
      "cell_type": "code",
      "execution_count": null,
      "metadata": {
        "id": "2jcN7e-0AjLx",
        "colab": {
          "base_uri": "https://localhost:8080/"
        },
        "outputId": "03cfa0d0-1294-4e8c-fbdd-801ee6b8ad08"
      },
      "outputs": [
        {
          "output_type": "stream",
          "name": "stdout",
          "text": [
            "Digite o salário: 1000\n",
            "O novo salário é: 1250.0\n",
            "e o aumento foi de 250.0\n"
          ]
        }
      ],
      "source": [
        "x = float(input(\"Digite o salário: \"))\n",
        "nv = x + (x / 4)\n",
        "va = nv - x\n",
        "\n",
        "print(\"O novo salário é:\", nv )\n",
        "print(\"e o aumento foi de\", va)"
      ]
    },
    {
      "cell_type": "markdown",
      "metadata": {
        "id": "uzkyONFVAjLx"
      },
      "source": [
        "21.  Faça um programa que calcule e mostre a área de um triângulo. Sabe-se que: \n",
        "> Área = (base * altura) / 2."
      ]
    },
    {
      "cell_type": "code",
      "execution_count": null,
      "metadata": {
        "id": "xe2hbqjxAjLx",
        "colab": {
          "base_uri": "https://localhost:8080/"
        },
        "outputId": "7f28b1e4-9a4f-46b6-8ab8-c7a7f75f0155"
      },
      "outputs": [
        {
          "output_type": "stream",
          "name": "stdout",
          "text": [
            "Digite a base do triângulo: 10\n",
            "Digite a altura do triângulo: 5\n",
            "A área do triângulo é: 25.0\n"
          ]
        }
      ],
      "source": [
        "x = float(input(\"Digite a base do triângulo: \"))\n",
        "y = float(input(\"Digite a altura do triângulo: \"))\n",
        "area = (x * y) / 2\n",
        "\n",
        "print(\"A área do triângulo é:\", area )"
      ]
    },
    {
      "cell_type": "markdown",
      "metadata": {
        "id": "6YoOcLSeAjLx"
      },
      "source": [
        "22. Escreva um programa que receba como entrada o raio de um círculo e imprima o diâmetro, a circunferência e a área. Para isso, utilize as fórmulas: diâmetro = 2r; circunferência = 2πr, área = πr²."
      ]
    },
    {
      "cell_type": "code",
      "execution_count": null,
      "metadata": {
        "id": "e1NEyIxSAjLy",
        "colab": {
          "base_uri": "https://localhost:8080/"
        },
        "outputId": "cb124e73-5130-4912-d64f-d7c11a9e3ee4"
      },
      "outputs": [
        {
          "output_type": "stream",
          "name": "stdout",
          "text": [
            "Entre com o valor do raio, para obter a circuferência do círculo: 5\n",
            "A circuferência do círculo: 31.40\n"
          ]
        }
      ],
      "source": [
        "raio = float(input('Entre com o valor do raio, para obter a circuferência do círculo: '))\n",
        "\n",
        "circunferencia = 2 * 3.14 * raio\n",
        "\n",
        "print(\"A circuferência do círculo: {:.2f}\".format(circunferencia))"
      ]
    },
    {
      "cell_type": "markdown",
      "metadata": {
        "id": "wFGJfP3cAjLy"
      },
      "source": [
        "23. Faça um programa que receba um número positivo e maior que zero, calcule e mostre:\n",
        "    1. o número digitado ao quadrado;\n",
        "    2. o número digitado ao cubo;\n",
        "    3. a raiz quadrada do número digitado."
      ]
    },
    {
      "cell_type": "code",
      "execution_count": null,
      "metadata": {
        "id": "EKysR76tAjLy",
        "colab": {
          "base_uri": "https://localhost:8080/"
        },
        "outputId": "9cb365cd-f9f4-4276-c9af-b8d0afec43d4"
      },
      "outputs": [
        {
          "output_type": "stream",
          "name": "stdout",
          "text": [
            "Digite um número:-1\n",
            "Digite um número maior que zero!\n"
          ]
        }
      ],
      "source": [
        "n = input('Digite um número:' )\n",
        "if not n.isdigit():\n",
        "    print(\"Digite um número maior que zero!\")\n",
        "else:\n",
        "    \n",
        "    quadrado = int(n) * int(n)\n",
        "    cubo = int(n) * int(n) * int(n)\n",
        "    raiz = float(n) ** 0.5\n",
        "    print('O número ao quadrado é: ', (quadrado))\n",
        "    print('O número ao cubo é: ', (cubo))\n",
        "    print('A raiz quadrada do número é: ',(raiz))\n",
        "   "
      ]
    },
    {
      "cell_type": "markdown",
      "metadata": {
        "id": "cw5LfuHrAjLy"
      },
      "source": [
        "24. Faça um programa que receba dois números maiores que zero, calcule e mostre um elevado ao outro."
      ]
    },
    {
      "cell_type": "code",
      "execution_count": null,
      "metadata": {
        "id": "kbNDFSSFAjLy",
        "colab": {
          "base_uri": "https://localhost:8080/"
        },
        "outputId": "d6df894b-9fca-4ad4-bfba-54a962c364f5"
      },
      "outputs": [
        {
          "output_type": "stream",
          "name": "stdout",
          "text": [
            "Digite o primeiro número:10\n",
            "Digite o segundo número: 10\n",
            "O número ao quadrado é:  10000000000\n"
          ]
        }
      ],
      "source": [
        "n = input('Digite o primeiro número:' )\n",
        "if not n.isdigit():\n",
        "    print(\"Digite um numero maior que zero!\")\n",
        "else:\n",
        "  x = input('Digite o segundo número: ')\n",
        "  if not x.isdigit():\n",
        "      print(\"Digite um numero maior que zero!\")\n",
        "  else:\n",
        "    potencia = int(n) ** int(x)\n",
        "\n",
        "    print('O número ao quadrado é: ', (potencia))"
      ]
    },
    {
      "cell_type": "markdown",
      "metadata": {
        "id": "oTFctjpBAjLz"
      },
      "source": [
        "25. Sabe-se que: pé = 12 polegadas; 1 jarda = 3 pés e 1 milha = 1,760 jarda. Faça um programa que receba uma medida em pés, faça as conversões a seguir e mostre os resultados.\n",
        "    1. polegadas;\n",
        "    2. jardas;\n",
        "    3. milhas."
      ]
    },
    {
      "cell_type": "code",
      "execution_count": null,
      "metadata": {
        "id": "GSn_n6tSAjLz",
        "colab": {
          "base_uri": "https://localhost:8080/"
        },
        "outputId": "f6b67fd7-c60a-4a8c-9343-db9f68885340"
      },
      "outputs": [
        {
          "output_type": "stream",
          "name": "stdout",
          "text": [
            "Digite a quantidade em pés: 1760\n",
            "A quantidade em jardas: 586.6666666666666, a quantidade em milhas 333.3333333333333 e a quantidade em polegadas é:21120.0 \n"
          ]
        }
      ],
      "source": [
        "\n",
        "x = float(input('Digite a quantidade em pés: ' ))\n",
        "p = x * 12\n",
        "j = x / 3\n",
        "m = j / 1.760\n",
        "print(f'A quantidade em jardas: {j}, a quantidade em milhas {m} e a quantidade em polegadas é:{p} ')"
      ]
    },
    {
      "cell_type": "markdown",
      "metadata": {
        "id": "nETkWkhcAjLz"
      },
      "source": [
        "26. Escreva um programa que receba como entrada um número de 5 dígitos, separe o número em dígitos individuais e os imprima separados por 3 espaços cada um. Por exemplo, se o usuário digitar 42339, o programa deverá imprimir: 4    2    3    3.   Dica: utilize as operações de divisão e módulo para extrair cada dígito do número."
      ]
    },
    {
      "cell_type": "code",
      "execution_count": null,
      "metadata": {
        "id": "MqoIXitKAjLz",
        "colab": {
          "base_uri": "https://localhost:8080/"
        },
        "outputId": "f8389c07-bf51-48fb-a0ab-345ef53f5496"
      },
      "outputs": [
        {
          "output_type": "stream",
          "name": "stdout",
          "text": [
            "Digite o número: 4233\n",
            "Analisando o número 4233 o resultado foi: 4   2   3   3\n"
          ]
        }
      ],
      "source": [
        "n = int(input('Digite o número: '))\n",
        "qn = n // 1 % 10\n",
        "tn = n // 10 % 10\n",
        "sn = n // 100 % 10\n",
        "pn = n // 1000 % 10\n",
        " \n",
        "\n",
        "print(f\"Analisando o número {format(n)} o resultado foi: {format(pn)}   {format(sn)}   {format(tn)}   {format(qn)}\")"
      ]
    },
    {
      "cell_type": "markdown",
      "metadata": {
        "id": "-VNiQgULAjL0"
      },
      "source": [
        "27.  A nota final de um estudante é calculada a partir de três notas atribuídas, respectivamente, a um trabalho\n",
        "de laboratório, a uma avaliação semestral e a um exame final. A média das três notas mencionadas\n",
        "obedece aos pesos a seguir:\n",
        "\n",
        "| Nota                    | Peso |\n",
        "|-------------------------|------|\n",
        "| Trabalho de Laboratório | 2    |\n",
        "| Avaliação Semestral     | 3    |\n",
        "| Exame Final             | 5    |\n",
        "\n",
        "\n",
        "Faça um programa que receba as três notas, calcule e mostre a média ponderada e o conceito que segue\n",
        "a tabela:\n",
        "\n",
        "| Média Ponderada        | Conceito |\n",
        "|------------------------|----------|\n",
        "| 8,00 <= Média <= 10,00 | A        |\n",
        "| 7,00 <= Média < 8,00   | B        |\n",
        "| 6,00 <= Média < 7,00   | C        |\n",
        "| 5,00 <= Média < 6,00   | D        |\n",
        "| 0,00 <= Média < 5,00   | E        |"
      ]
    },
    {
      "cell_type": "code",
      "execution_count": null,
      "metadata": {
        "id": "13xdQyZQAjL0",
        "colab": {
          "base_uri": "https://localhost:8080/"
        },
        "outputId": "695046d1-ee28-45e8-9e23-2408ddfef43d"
      },
      "outputs": [
        {
          "output_type": "stream",
          "name": "stdout",
          "text": [
            "Digite a nota no trabalho de laboratório: 5\n",
            "Digite a nota na avaliação semestral: 5\n",
            "Digite a nota no exame final: 5\n",
            "Sua Nota é: D 5.0\n"
          ]
        }
      ],
      "source": [
        "nt = float(input(\"Digite a nota no trabalho de laboratório: \"))\n",
        "na = float(input(\"Digite a nota na avaliação semestral: \"))\n",
        "ne = float(input(\"Digite a nota no exame final: \"))\n",
        "tp = 2\n",
        "avs = 3\n",
        "ef = 5\n",
        "\n",
        "x = ((nt * tp) + (na * avs) + (ne * ef)) / 10\n",
        "\n",
        "\n",
        "if x>=8.0:\n",
        "  print(\"Sua Nota é: A\", x)\n",
        "elif (7.0<=x) and (x<8.0):\n",
        "  print(\"Sua Nota é: B\", x)\n",
        "elif (6.0<=x) and (x<7.0):\n",
        "  print(\"Sua Nota é: C\", x)\n",
        "elif (5.0<=x) and (x<6.0):\n",
        "  print(\"Sua Nota é: D\", x)\n",
        "elif x < 5.0:\n",
        "  print(\"Sua Nota é: E\", x)   \n",
        "\n",
        "\n"
      ]
    },
    {
      "cell_type": "markdown",
      "metadata": {
        "id": "JayEAdcHAjL0"
      },
      "source": [
        "28. Faça um programa que receba três notas de um aluno, calcule e mostre a média aritmética e a mensagem constante na tabela a seguir. \n",
        "\n",
        "| Média                  | Situação       |\n",
        "|------------------------|----------------|\n",
        "| 7,00 <= Média <= 10,00 | Aprovado       |\n",
        "| 3,00 <= Média < 7,00   | Exame Especial |\n",
        "| 0,00 <= Média < 3,00   | Reprovado      |"
      ]
    },
    {
      "cell_type": "code",
      "execution_count": null,
      "metadata": {
        "id": "3fcDtFt8AjL0",
        "colab": {
          "base_uri": "https://localhost:8080/"
        },
        "outputId": "1a4ed96a-e787-472a-b183-937ef8a001e0"
      },
      "outputs": [
        {
          "output_type": "stream",
          "name": "stdout",
          "text": [
            "Digite a primeira nota: 2\n",
            "Digite a segunda nota: 2\n",
            "Digite a terceira nota: 2\n",
            "Reprovado 2.0\n"
          ]
        }
      ],
      "source": [
        "nt = float(input(\"Digite a primeira nota: \"))\n",
        "na = float(input(\"Digite a segunda nota: \"))\n",
        "ne = float(input(\"Digite a terceira nota: \"))\n",
        "\n",
        "x = (nt + na + ne) / 3\n",
        "\n",
        "if x>=7.0:\n",
        "  print(\"Aprovado\", x)\n",
        "elif (3.0<=x) and (x<7.0):\n",
        "  print(\"Exame Especial\", x)\n",
        "elif (0.0<=x) and (x<3.0):\n",
        "  print(\"Reprovado\", x)"
      ]
    },
    {
      "cell_type": "markdown",
      "metadata": {
        "id": "rw4Pg34LAjL0"
      },
      "source": [
        "29. Faça um programa para resolver equações do 2º grau.\n",
        "\n",
        "$$\n",
        "a^{2} + bx + c = 0\n",
        "$$\n",
        "\n",
        "\n",
        "Onde x é uma variável, sendo a, b e c constantes, com a ≠ 0 \n",
        "\n",
        "\n",
        "$$\n",
        "\\Delta = b^{2} - 4ac\n",
        "$$\n",
        "\n",
        "$$\n",
        "\\Delta < 0 \\rightarrow não \\: existe  \\: raiz  \\: real\n",
        "$$\n",
        "\n",
        "$$\n",
        "\\Delta = 0 \\rightarrow  existe  \\: raiz  \\: real\n",
        "$$\n",
        "\n",
        "$$\n",
        "x = \\frac{-b}{2a}\n",
        "$$\n",
        "\n",
        "\n",
        "\n",
        "$$\n",
        "\\Delta > 0 \\rightarrow existem \\: duas  \\: raizes  \\: reais\n",
        "$$\n",
        "\n",
        "\n",
        "$$\n",
        "x_1 = \\frac{-b \\: + \\: \\sqrt{\\Delta } }{2a}\n",
        "$$\n",
        "\n",
        "$$\n",
        "x_2 = \\frac{-b \\: - \\: \\sqrt{\\Delta } }{2a}\n",
        "$$"
      ]
    },
    {
      "cell_type": "code",
      "execution_count": null,
      "metadata": {
        "id": "QuNoC3CaAjL1"
      },
      "outputs": [],
      "source": [
        "A = float(1)\n",
        "B = float(-2)\n",
        "C = float(1)\n",
        "x = float(-4)\n",
        "x = float(input('Digite o valor da variável: '))\n",
        "\n",
        "delta = (B**2) - 4 * A * C\n",
        "\n",
        "if delta < 0:\n",
        "  print('Não existe raiz real')\n",
        "elif delta == 0:\n",
        "  print('Existe raiz real')\n",
        "else:\n",
        "  print('Existem duas raizes reais')\n"
      ]
    },
    {
      "cell_type": "markdown",
      "metadata": {
        "id": "Ir_XABjrAjL1"
      },
      "source": [
        "30. Faça um programa que receba vários números, calcule e mostre:\n",
        "\n",
        "    - A soma dos números digitados;\n",
        "    - A quantidade de números digitados;\n",
        "    - A média dos números digitados;\n",
        "    - O maior número digitado;\n",
        "    - O menor número digitado;\n",
        "    - A média dos números pares;\n",
        "    - A porcentagem dos números ímpares entre todos os números digitados.\n",
        "\n",
        "Finalize a entrada de dados com a digitação do número 0."
      ]
    },
    {
      "cell_type": "code",
      "execution_count": null,
      "metadata": {
        "id": "XgrvEYKhAjL1",
        "colab": {
          "base_uri": "https://localhost:8080/"
        },
        "outputId": "0ac91d41-f9ac-46d9-8d8d-358612760b59"
      },
      "outputs": [
        {
          "output_type": "stream",
          "name": "stdout",
          "text": [
            "Informe um valor ou -1 para sair: 1\n",
            "Informe um valor ou -1 para sair: 10\n",
            "Informe um valor ou -1 para sair: 10\n",
            "Informe um valor ou -1 para sair: -1\n",
            "A mÃ©dia dos numeros digitados Ã©:  7.0\n",
            "A quantidade de numeros pares Ã©:  2\n",
            "A media dos numeros impares Ã©:  1.0\n"
          ]
        }
      ],
      "source": [
        "lista = []\n",
        "\n",
        "x = 1\n",
        "soma = 0\n",
        "cont = 0\n",
        "maior = -1000000\n",
        "menor = 1000000\n",
        "pares = 0\n",
        "impares = 0\n",
        "contPares = 0\n",
        "\n",
        "while x == 1:\n",
        " lista.append(int(input('Digite um número: ')))\n",
        " \n",
        " x = int(input('Sim [1] / Não [0] - Digitar outro número? '))\n",
        "\n",
        " print('\\n')\n",
        "\n",
        "for i in range(len(lista)):\n",
        "\n",
        "  soma += lista[i]\n",
        "  cont += 1\n",
        "\n",
        "  if lista[i] > maior:\n",
        "    maior = lista[i]\n",
        "\n",
        "  if lista[i] < menor:\n",
        "    menor = lista[i]  \n",
        "\n",
        "  if lista[i] % 2 == 0:\n",
        "    pares += lista[i]\n",
        "    contPares += 1\n",
        "\n",
        "  if lista[i] % 2 >= 1:\n",
        "    impares += 1  \n",
        "\n",
        "media = soma / cont\n",
        "mediaPares = pares / contPares \n",
        "percent = (impares / cont) * 100\n",
        "\n",
        "print('----------------Resultados----------------')\n",
        "print(f'Soma dos valores ...................: {soma}')  \n",
        "print(f'Quantidade de valores ..............: {cont}') \n",
        "print(f'Média dos valores ..................: {media:.2f}') \n",
        "print(f'Maior valor ........................: {maior}') \n",
        "print(f'Menor valor ........................: {menor}')  \n",
        "print(f'Média dos números pares ............: {mediaPares:.2f}') \n",
        "print(f'Porcentagem impares entre o total ..: {percent:.2f}%') \n"
      ]
    },
    {
      "cell_type": "markdown",
      "metadata": {
        "id": "qS4q5-I8AjL1"
      },
      "source": [
        "31. Foi realizada uma pesquisa sobre algumas características físicas dos habitantes de uma região. Foram coletados os seguintes dados de cada habitante: sexo, cor dos olhos (A — azuis; ou C — castanhos), cor dos cabelos (L — louros; P — pretos; ou C — castanhos) e idade. Implemente os seguintes métodos:\n",
        "\n",
        "    1. `leia_dados()`: leia esses dados, armazene e retorne os dados em uma lista;\n",
        "    2. `media_idades(dados)`: calcula e retorne a média de idade das pessoas com olhos castanhos e cabelos pretos;\n",
        "    3. `maior_idade(dados)`: determina e retorne a maior idade entre os habitantes;\n",
        "    4. `frequencia_individuos(dados)`: calcula e retorna a quantidade de indivíduos do sexo feminino com idade entre 18 e 35 anos (inclusive) e que tenham olhos azuis e cabelos louros."
      ]
    },
    {
      "cell_type": "code",
      "execution_count": null,
      "metadata": {
        "id": "ac6xCaXaAjL2"
      },
      "outputs": [],
      "source": [
        "lista = [['M', 'A', 'C', 25], ['F', 'C', 'L', 23], ['M', 'C', 'C', 19], ['F', 'A', 'P', 29]]\n",
        "leia_dados()\n",
        "def leia_dados():\n",
        "\n",
        "lista = [['', '', '', 0], ['', '', '', 0], ['', '', '', 0]]\n",
        "\n",
        "for i in range(0, 3):\n",
        "  for j in range(0, 4):\n",
        "    lista[i][j] = input(f'Digite um valor para {i}{j}: ')\n",
        "\n",
        "print(lista) "
      ]
    },
    {
      "cell_type": "markdown",
      "metadata": {
        "id": "zkN4BEHsAjL2"
      },
      "source": [
        "32. Faça o método `analisa_numeros(numeros)` que receba uma lista de números como parâmetro, calcule e mostre:\n",
        "\n",
        "    1. A Soma dos números;\n",
        "    2. A quantidade de números;\n",
        "    3. A média dos números;\n",
        "    4. O maior número;\n",
        "    5. O menor número;\n",
        "    6. A média dos números pares;\n",
        "    7. A porcentagem dos números ímpares entre todos os números da lista."
      ]
    },
    {
      "cell_type": "code",
      "execution_count": null,
      "metadata": {
        "id": "j0nDctrwAjL2"
      },
      "outputs": [],
      "source": [
        "lista = []\n",
        "\n",
        "x = 1\n",
        "soma = 0\n",
        "cont = 0\n",
        "maior = -1000000\n",
        "menor = 1000000\n",
        "pares = 0\n",
        "impares = 0\n",
        "contPares = 0\n",
        "\n",
        "while x == 1:\n",
        " lista.append(int(input('Digite um número: ')))\n",
        " \n",
        " x = int(input('Sim [1] / Não [0] - Digitar outro número? '))\n",
        "\n",
        " print('\\n')\n",
        "\n",
        "for i in range(len(lista)):\n",
        "\n",
        "  soma += lista[i]\n",
        "  cont += 1\n",
        "\n",
        "  if lista[i] > maior:\n",
        "    maior = lista[i]\n",
        "\n",
        "  if lista[i] < menor:\n",
        "    menor = lista[i]  \n",
        "\n",
        "  if lista[i] % 2 == 0:\n",
        "    pares += lista[i]\n",
        "    contPares += 1\n",
        "\n",
        "  if lista[i] % 2 >= 1:\n",
        "    impares += 1  \n",
        "\n",
        "media = soma / cont\n",
        "mediaPares = pares / contPares \n",
        "percent = (impares / cont) * 100\n",
        "\n",
        "print('----------------Resultados----------------')\n",
        "print(f'1. A Soma dos valores ...................: {soma}')  \n",
        "print(f'2. A Quantidade de valores ..............: {cont}') \n",
        "print(f'3. A Média dos números ..................: {media:.2f}') \n",
        "print(f'4. O Maior número ........................: {maior}') \n",
        "print(f'5. O Menor número ........................: {menor}')  \n",
        "print(f'6. A Média dos números pares ............: {mediaPares:.2f}') \n",
        "print(f'7. A Porcentagem impares entre o total ..: {percent:.2f}%') "
      ]
    },
    {
      "cell_type": "markdown",
      "metadata": {
        "id": "aZnyQzvCAjL2"
      },
      "source": [
        "33. Uma empresa quer transmitir dados pelo telefone, mas está preocupada com a interceptação telefônica. Todos os seus dados são transmitidos  como inteiros de quatro dígitos. Ela pediu para que você escreva um programa que criptografe seus dados, para que eles possam ser transmitidos com mais segurança. Implemente a função `criptogra(numero)` que receba como parâmetro um número inteiro de quatro dígitos e criptografe-o da seguinte forma: \n",
        "\n",
        "    * Substitua cada um dos dígitos do número usando a seguinte fórmula: `(digito +  7) módulo 10`; \n",
        "    * Após a substituição, troque o primeiro dígito pelo terceiro e troque o segundo dígito pelo quarto;\n",
        "    * Retorne o número inteiro criptografado."
      ]
    },
    {
      "cell_type": "code",
      "execution_count": null,
      "metadata": {
        "id": "CW2RAEywAjL2"
      },
      "outputs": [],
      "source": [
        ""
      ]
    }
  ],
  "metadata": {
    "kernelspec": {
      "display_name": "Python 3",
      "language": "python",
      "name": "python3"
    },
    "language_info": {
      "codemirror_mode": {
        "name": "ipython",
        "version": 3
      },
      "file_extension": ".py",
      "mimetype": "text/x-python",
      "name": "python",
      "nbconvert_exporter": "python",
      "pygments_lexer": "ipython3",
      "version": "3.7.4"
    },
    "colab": {
      "name": "exercicios-python.ipynb",
      "provenance": [],
      "collapsed_sections": []
    }
  },
  "nbformat": 4,
  "nbformat_minor": 0
}